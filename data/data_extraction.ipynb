{
 "cells": [
  {
   "cell_type": "markdown",
   "metadata": {},
   "source": [
    "### Music Sheet Data Extraction\n",
    "\n",
    "##### This file extracts the various data files needed for running our sheet music classification model. We plan on using previously labeled data from OmrDataset and scraped digital and handwritten data we label ourselves. "
   ]
  },
  {
   "cell_type": "markdown",
   "metadata": {},
   "source": [
    "#### We will begin by extracting the OmrDataset from the Audiveris Library, using code from Pacha's Music Symbol Classifier model, which we are basing our model off of"
   ]
  },
  {
   "cell_type": "code",
   "execution_count": 3,
   "metadata": {},
   "outputs": [
    {
     "name": "stdout",
     "output_type": "stream",
     "text": [
      "Collecting omrdatasettools\n",
      "  Downloading omrdatasettools-1.4.0.tar.gz (41 kB)\n",
      "  Preparing metadata (setup.py) ... \u001b[?25ldone\n",
      "\u001b[?25hRequirement already satisfied: Pillow in /Users/kimiyashahamat/anaconda3/envs/geo_env/lib/python3.12/site-packages (from omrdatasettools) (10.4.0)\n",
      "Collecting muscima (from omrdatasettools)\n",
      "  Downloading muscima-0.10.0.tar.gz (105 kB)\n",
      "  Preparing metadata (setup.py) ... \u001b[?25ldone\n",
      "\u001b[?25hCollecting mung (from omrdatasettools)\n",
      "  Downloading mung-1.2.1.tar.gz (117 kB)\n",
      "  Preparing metadata (setup.py) ... \u001b[?25ldone\n",
      "\u001b[?25hRequirement already satisfied: numpy in /Users/kimiyashahamat/anaconda3/envs/geo_env/lib/python3.12/site-packages (from omrdatasettools) (2.0.1)\n",
      "Collecting tqdm (from omrdatasettools)\n",
      "  Downloading tqdm-4.67.1-py3-none-any.whl.metadata (57 kB)\n",
      "Collecting scikit-image (from omrdatasettools)\n",
      "  Downloading scikit_image-0.24.0-cp312-cp312-macosx_10_9_x86_64.whl.metadata (14 kB)\n",
      "Requirement already satisfied: lxml in /Users/kimiyashahamat/anaconda3/envs/geo_env/lib/python3.12/site-packages (from omrdatasettools) (5.3.0)\n",
      "Requirement already satisfied: scipy>=1.9 in /Users/kimiyashahamat/anaconda3/envs/geo_env/lib/python3.12/site-packages (from scikit-image->omrdatasettools) (1.14.0)\n",
      "Requirement already satisfied: networkx>=2.8 in /Users/kimiyashahamat/anaconda3/envs/geo_env/lib/python3.12/site-packages (from scikit-image->omrdatasettools) (3.3)\n",
      "Collecting imageio>=2.33 (from scikit-image->omrdatasettools)\n",
      "  Downloading imageio-2.36.0-py3-none-any.whl.metadata (5.2 kB)\n",
      "Collecting tifffile>=2022.8.12 (from scikit-image->omrdatasettools)\n",
      "  Downloading tifffile-2024.9.20-py3-none-any.whl.metadata (32 kB)\n",
      "Requirement already satisfied: packaging>=21 in /Users/kimiyashahamat/anaconda3/envs/geo_env/lib/python3.12/site-packages (from scikit-image->omrdatasettools) (24.1)\n",
      "Collecting lazy-loader>=0.4 (from scikit-image->omrdatasettools)\n",
      "  Downloading lazy_loader-0.4-py3-none-any.whl.metadata (7.6 kB)\n",
      "Downloading scikit_image-0.24.0-cp312-cp312-macosx_10_9_x86_64.whl (14.1 MB)\n",
      "\u001b[2K   \u001b[90m━━━━━━━━━━━━━━━━━━━━━━━━━━━━━━━━━━━━━━━━\u001b[0m \u001b[32m14.1/14.1 MB\u001b[0m \u001b[31m8.7 MB/s\u001b[0m eta \u001b[36m0:00:00\u001b[0ma \u001b[36m0:00:01\u001b[0m\n",
      "\u001b[?25hDownloading tqdm-4.67.1-py3-none-any.whl (78 kB)\n",
      "Downloading imageio-2.36.0-py3-none-any.whl (315 kB)\n",
      "Downloading lazy_loader-0.4-py3-none-any.whl (12 kB)\n",
      "Downloading tifffile-2024.9.20-py3-none-any.whl (228 kB)\n",
      "Building wheels for collected packages: omrdatasettools, mung, muscima\n",
      "  Building wheel for omrdatasettools (setup.py) ... \u001b[?25ldone\n",
      "\u001b[?25h  Created wheel for omrdatasettools: filename=omrdatasettools-1.4.0-py3-none-any.whl size=35300 sha256=cbabcea8467c719efa857cc84718e922e387dcc8c666b18f9d9108e27065f568\n",
      "  Stored in directory: /Users/kimiyashahamat/Library/Caches/pip/wheels/9c/a2/39/6b424c8ea753fb94e19197e5cf8f73985cba60d971644daa0f\n",
      "  Building wheel for mung (setup.py) ... \u001b[?25ldone\n",
      "\u001b[?25h  Created wheel for mung: filename=mung-1.2.1-py3-none-any.whl size=124995 sha256=d2bbe239277df7e68b4bdd89be85c15c5cb33011e47af9990077f6ef3cfe3d55\n",
      "  Stored in directory: /Users/kimiyashahamat/Library/Caches/pip/wheels/64/78/d9/c5b1c17043eab21c499bbe0d8562c4c4fca3c41d6604a81476\n",
      "  Building wheel for muscima (setup.py) ... \u001b[?25ldone\n",
      "\u001b[?25h  Created wheel for muscima: filename=muscima-0.10.0-py3-none-any.whl size=116523 sha256=93ea61804f266c92523141807caf32105d457fc5704d6a430ba3cb96d6179ac1\n",
      "  Stored in directory: /Users/kimiyashahamat/Library/Caches/pip/wheels/f6/cf/6c/53ed99ed73019e6e5c0799a2b2768ae040ab85f00e52747e95\n",
      "Successfully built omrdatasettools mung muscima\n",
      "Installing collected packages: tqdm, tifffile, muscima, lazy-loader, imageio, scikit-image, mung, omrdatasettools\n",
      "Successfully installed imageio-2.36.0 lazy-loader-0.4 mung-1.2.1 muscima-0.10.0 omrdatasettools-1.4.0 scikit-image-0.24.0 tifffile-2024.9.20 tqdm-4.67.1\n",
      "Note: you may need to restart the kernel to use updated packages.\n"
     ]
    }
   ],
   "source": [
    "#Install the library for omr datasets\n",
    "pip install omrdatasettools"
   ]
  },
  {
   "cell_type": "code",
   "execution_count": 23,
   "metadata": {},
   "outputs": [
    {
     "name": "stdout",
     "output_type": "stream",
     "text": [
      "Extracting AudiverisOmrDataset.zip dataset...\n",
      "Extracting Symbols from Audiveris OMR Dataset...\n",
      "self.path_of_this_file /Users/kimiyashahamat/Desktop/DL_CV/Final Project/Sheet-Music-Parser/data/audiveris\n"
     ]
    }
   ],
   "source": [
    "import argparse\n",
    "import json\n",
    "\n",
    "import os\n",
    "from distutils import dir_util\n",
    "\n",
    "from omrdatasettools.Downloader import Downloader\n",
    "from omrdatasettools.AudiverisOmrImageGenerator import AudiverisOmrImageGenerator\n",
    "from omrdatasettools.OmrDataset import OmrDataset\n",
    "\n",
    "os.makedirs(\"audiveris\", exist_ok=True)\n",
    "os.chdir(\"audiveris\")\n",
    "\n",
    "class AudiverisOmrImageExtractor():\n",
    "    def __init__(self) -> None:\n",
    "        self.path_of_this_file = os.getcwd()\n",
    "        print(\"self.path_of_this_file\",self.path_of_this_file)\n",
    "\n",
    "    def prepare_dataset(self, intermediate_image_directory, image_dataset_directory):\n",
    "        with open(os.path.join(self.path_of_this_file, \"AudiverisOmrIgnoredClasses.json\")) as file:\n",
    "            ignored_classes = json.load(file)\n",
    "        with open(os.path.join(self.path_of_this_file, \"AudiverisOmrClassNameMapping.json\")) as file:\n",
    "            class_name_mapping = json.load(file)\n",
    "\n",
    "        image_directories = os.listdir(intermediate_image_directory)\n",
    "\n",
    "        for symbol_class in image_directories:\n",
    "            if symbol_class in ignored_classes:\n",
    "                continue\n",
    "\n",
    "            destination_class_name = class_name_mapping[symbol_class]\n",
    "            source_folder = os.path.join(intermediate_image_directory, symbol_class)\n",
    "            destination_folder = os.path.join(image_dataset_directory, destination_class_name)\n",
    "            os.makedirs(destination_folder, exist_ok=True)\n",
    "            dir_util.copy_tree(source_folder, destination_folder)\n",
    "\n",
    "\n",
    "if __name__ == \"__main__\":\n",
    "    parser = argparse.ArgumentParser()\n",
    "    parser.add_argument(\n",
    "        \"--raw_dataset_directory\",\n",
    "        type=str,\n",
    "        default=\"../data/audiveris_omr_raw\",\n",
    "        help=\"The directory, where the raw Muscima++ dataset can be found\")\n",
    "    parser.add_argument(\n",
    "        \"--intermediate_image_directory\",\n",
    "        type=str,\n",
    "        default=\"../data/audiveris_omr\",\n",
    "        help=\"The directory, where the raw bitmaps will be generated\")\n",
    "    parser.add_argument(\n",
    "        \"--image_dataset_directory\",\n",
    "        type=str,\n",
    "        default=\"../data/images\",\n",
    "        help=\"The directory, where the processed bitmaps will be copied to after filtering and renaming classes\")\n",
    "\n",
    "    flags, unparsed = parser.parse_known_args()\n",
    "\n",
    "    dataset_downloader = Downloader()\n",
    "    dataset_downloader.download_and_extract_dataset(OmrDataset.Audiveris, flags.raw_dataset_directory)\n",
    "\n",
    "    # Convert the raw data into images\n",
    "    image_generator = AudiverisOmrImageGenerator()\n",
    "    image_generator.extract_symbols(flags.raw_dataset_directory, flags.intermediate_image_directory)\n",
    "\n",
    "    # Actually prepare our dataset\n",
    "    dataset_preparer = AudiverisOmrImageExtractor()\n",
    "    dataset_preparer.prepare_dataset(flags.intermediate_image_directory, flags.image_dataset_directory)"
   ]
  }
 ],
 "metadata": {
  "interpreter": {
   "hash": "cef01c841d65442183391d466e3002e4a3830d11eacb93b91c0db586ba87f5b7"
  },
  "kernelspec": {
   "display_name": "Python 3.12.5 ('geo_env')",
   "language": "python",
   "name": "python3"
  },
  "language_info": {
   "codemirror_mode": {
    "name": "ipython",
    "version": 3
   },
   "file_extension": ".py",
   "mimetype": "text/x-python",
   "name": "python",
   "nbconvert_exporter": "python",
   "pygments_lexer": "ipython3",
   "version": "3.12.5"
  },
  "orig_nbformat": 4
 },
 "nbformat": 4,
 "nbformat_minor": 2
}
